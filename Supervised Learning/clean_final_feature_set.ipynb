{
 "cells": [
  {
   "cell_type": "code",
   "execution_count": 1,
   "metadata": {
    "collapsed": true
   },
   "outputs": [],
   "source": [
    "import pandas as pd\n",
    "import json\n",
    "import hashlib\n",
    "import time\n",
    "import requests\n",
    "import time\n",
    "import cPickle as pickle\n",
    "from tqdm import tqdm"
   ]
  },
  {
   "cell_type": "code",
   "execution_count": 166,
   "metadata": {},
   "outputs": [
    {
     "name": "stdout",
     "output_type": "stream",
     "text": [
      "<class 'pandas.core.frame.DataFrame'>\n",
      "RangeIndex: 35148 entries, 0 to 35147\n",
      "Data columns (total 15 columns):\n",
      "indicator_types.value                                           35148 non-null object\n",
      "kill_chain_phases.kill_chain_phases.ordinality                  35148 non-null object\n",
      "observable.object.properties.address_value.value                35148 non-null object\n",
      "observable.object.properties.file_name.value                    35148 non-null object\n",
      "observable.object.properties.hashes.simple_hash_value.value     35148 non-null object\n",
      "observable.object.properties.hashes.type.value                  35148 non-null object\n",
      "observable.object.properties.header.from.address_value.value    35148 non-null object\n",
      "observable.object.properties.header.subject.value               35148 non-null object\n",
      "observable.object.properties.size_in_bytes.value                35148 non-null object\n",
      "observable.object.properties.value.value                        35148 non-null object\n",
      "related_objects.properties.value.value                          35148 non-null object\n",
      "title                                                           35148 non-null object\n",
      "tlp_marking_color                                               35148 non-null object\n",
      "target                                                          35148 non-null object\n",
      "hash_score                                                      35148 non-null object\n",
      "dtypes: object(15)\n",
      "memory usage: 4.0+ MB\n"
     ]
    }
   ],
   "source": [
    "df = pd.read_csv('final_final_feature_set.csv', encoding='ISO-8859-1')\n",
    "df = df.fillna('')\n",
    "df.info()"
   ]
  },
  {
   "cell_type": "code",
   "execution_count": 167,
   "metadata": {},
   "outputs": [
    {
     "name": "stderr",
     "output_type": "stream",
     "text": [
      "100%|██████████| 35148/35148 [00:00<00:00, 251118.11it/s]\n"
     ]
    },
    {
     "data": {
      "text/plain": [
       "35148"
      ]
     },
     "execution_count": 167,
     "metadata": {},
     "output_type": "execute_result"
    }
   ],
   "source": [
    "url_score_column = []\n",
    "\n",
    "def replace_url_with_score(url_list):\n",
    "    url_scores = pickle.load(open('url_score_dict.pickle', 'rb'))\n",
    "    \n",
    "    for url in tqdm(url_list):\n",
    "        try:\n",
    "            url_score_column.append(float(url_scores[url]))\n",
    "        except KeyError:\n",
    "            url_score_column.append('')\n",
    "\n",
    "replace_url_with_score(df['observable.object.properties.value.value'])\n",
    "\n",
    "len(url_score_column)"
   ]
  },
  {
   "cell_type": "code",
   "execution_count": 168,
   "metadata": {},
   "outputs": [
    {
     "name": "stderr",
     "output_type": "stream",
     "text": [
      "100%|██████████| 35148/35148 [00:00<00:00, 374229.62it/s]\n"
     ]
    },
    {
     "data": {
      "text/plain": [
       "35148"
      ]
     },
     "execution_count": 168,
     "metadata": {},
     "output_type": "execute_result"
    }
   ],
   "source": [
    "ip_score_col = []\n",
    "\n",
    "def replace_ip_with_score(ip_list):\n",
    "    ip_scores = pickle.load(open('ip_scores.pickle', 'rb'))\n",
    "    \n",
    "    for ip in tqdm(ip_list):\n",
    "        try:\n",
    "            ip_score_col.append(float(ip_scores[ip]))\n",
    "        except (KeyError, TypeError):\n",
    "            ip_score_col.append('')            \n",
    "\n",
    "replace_ip_with_score(df['observable.object.properties.address_value.value'])\n",
    "\n",
    "len(ip_score_col)"
   ]
  },
  {
   "cell_type": "code",
   "execution_count": 169,
   "metadata": {},
   "outputs": [],
   "source": [
    "df.insert(2, 'ip_score', ip_score_col)\n",
    "df.insert(3, 'url_score', url_score_column)"
   ]
  },
  {
   "cell_type": "code",
   "execution_count": 170,
   "metadata": {},
   "outputs": [],
   "source": [
    "df['file_type'] = df['observable.object.properties.file_name.value'].apply(lambda x : x.split('.')[-1])"
   ]
  },
  {
   "cell_type": "code",
   "execution_count": 171,
   "metadata": {},
   "outputs": [
    {
     "data": {
      "text/plain": [
       "Index([                                       u'indicator_types.value',\n",
       "                     u'kill_chain_phases.kill_chain_phases.ordinality',\n",
       "                                                           u'ip_score',\n",
       "                                                          u'url_score',\n",
       "                   u'observable.object.properties.address_value.value',\n",
       "                       u'observable.object.properties.file_name.value',\n",
       "        u'observable.object.properties.hashes.simple_hash_value.value',\n",
       "                     u'observable.object.properties.hashes.type.value',\n",
       "       u'observable.object.properties.header.from.address_value.value',\n",
       "                  u'observable.object.properties.header.subject.value',\n",
       "                   u'observable.object.properties.size_in_bytes.value',\n",
       "                           u'observable.object.properties.value.value',\n",
       "                             u'related_objects.properties.value.value',\n",
       "                                                              u'title',\n",
       "                                                  u'tlp_marking_color',\n",
       "                                                             u'target',\n",
       "                                                         u'hash_score',\n",
       "                                                          u'file_type'],\n",
       "      dtype='object')"
      ]
     },
     "execution_count": 171,
     "metadata": {},
     "output_type": "execute_result"
    }
   ],
   "source": [
    "df.columns"
   ]
  },
  {
   "cell_type": "code",
   "execution_count": 172,
   "metadata": {},
   "outputs": [
    {
     "name": "stdout",
     "output_type": "stream",
     "text": [
      "<class 'pandas.core.frame.DataFrame'>\n",
      "RangeIndex: 35148 entries, 0 to 35147\n",
      "Data columns (total 11 columns):\n",
      "indicator_types.value                                35148 non-null object\n",
      "kill_chain_phases.kill_chain_phases.ordinality       35148 non-null object\n",
      "ip_score                                             35148 non-null object\n",
      "url_score                                            35148 non-null object\n",
      "observable.object.properties.hashes.type.value       35148 non-null object\n",
      "observable.object.properties.header.subject.value    35148 non-null object\n",
      "observable.object.properties.size_in_bytes.value     35148 non-null object\n",
      "tlp_marking_color                                    35148 non-null object\n",
      "target                                               35148 non-null object\n",
      "hash_score                                           35148 non-null object\n",
      "file_type                                            35148 non-null object\n",
      "dtypes: object(11)\n",
      "memory usage: 2.9+ MB\n"
     ]
    }
   ],
   "source": [
    "unwanted_columns = ['observable.object.properties.address_value.value',\n",
    "                    'observable.object.properties.hashes.simple_hash_value.value', \n",
    "                    'observable.object.properties.header.from.address_value.value',\n",
    "                    'observable.object.properties.value.value',\n",
    "                    'related_objects.properties.value.value',\n",
    "                    'observable.object.properties.file_name.value',\n",
    "                    'observable.object.properties.header.from.address_value.value',\n",
    "                    'title']\n",
    "\n",
    "df = df.drop(unwanted_columns, axis=1)\n",
    "df.info()"
   ]
  },
  {
   "cell_type": "code",
   "execution_count": 173,
   "metadata": {},
   "outputs": [
    {
     "data": {
      "text/html": [
       "<div>\n",
       "<table border=\"1\" class=\"dataframe\">\n",
       "  <thead>\n",
       "    <tr style=\"text-align: right;\">\n",
       "      <th></th>\n",
       "      <th>indicator_types.value</th>\n",
       "      <th>kill_chain_phases.kill_chain_phases.ordinality</th>\n",
       "      <th>ip_score</th>\n",
       "      <th>url_score</th>\n",
       "      <th>observable.object.properties.hashes.type.value</th>\n",
       "      <th>observable.object.properties.header.subject.value</th>\n",
       "      <th>observable.object.properties.size_in_bytes.value</th>\n",
       "      <th>tlp_marking_color</th>\n",
       "      <th>target</th>\n",
       "      <th>hash_score</th>\n",
       "      <th>file_type</th>\n",
       "    </tr>\n",
       "  </thead>\n",
       "  <tbody>\n",
       "    <tr>\n",
       "      <th>0</th>\n",
       "      <td>6</td>\n",
       "      <td>0.0</td>\n",
       "      <td>0.00000</td>\n",
       "      <td>0.0</td>\n",
       "      <td>0</td>\n",
       "      <td>0</td>\n",
       "      <td>0.0</td>\n",
       "      <td>0</td>\n",
       "      <td>5</td>\n",
       "      <td>0.0</td>\n",
       "      <td>0</td>\n",
       "    </tr>\n",
       "    <tr>\n",
       "      <th>1</th>\n",
       "      <td>6</td>\n",
       "      <td>0.0</td>\n",
       "      <td>1.00000</td>\n",
       "      <td>0.0</td>\n",
       "      <td>0</td>\n",
       "      <td>0</td>\n",
       "      <td>0.0</td>\n",
       "      <td>0</td>\n",
       "      <td>5</td>\n",
       "      <td>0.0</td>\n",
       "      <td>0</td>\n",
       "    </tr>\n",
       "    <tr>\n",
       "      <th>2</th>\n",
       "      <td>6</td>\n",
       "      <td>0.0</td>\n",
       "      <td>0.00000</td>\n",
       "      <td>0.0</td>\n",
       "      <td>0</td>\n",
       "      <td>0</td>\n",
       "      <td>0.0</td>\n",
       "      <td>0</td>\n",
       "      <td>5</td>\n",
       "      <td>0.0</td>\n",
       "      <td>0</td>\n",
       "    </tr>\n",
       "    <tr>\n",
       "      <th>3</th>\n",
       "      <td>6</td>\n",
       "      <td>0.0</td>\n",
       "      <td>0.00000</td>\n",
       "      <td>0.0</td>\n",
       "      <td>0</td>\n",
       "      <td>0</td>\n",
       "      <td>0.0</td>\n",
       "      <td>0</td>\n",
       "      <td>5</td>\n",
       "      <td>0.0</td>\n",
       "      <td>0</td>\n",
       "    </tr>\n",
       "    <tr>\n",
       "      <th>4</th>\n",
       "      <td>6</td>\n",
       "      <td>0.0</td>\n",
       "      <td>0.51408</td>\n",
       "      <td>0.0</td>\n",
       "      <td>0</td>\n",
       "      <td>0</td>\n",
       "      <td>0.0</td>\n",
       "      <td>0</td>\n",
       "      <td>5</td>\n",
       "      <td>0.0</td>\n",
       "      <td>0</td>\n",
       "    </tr>\n",
       "  </tbody>\n",
       "</table>\n",
       "</div>"
      ],
      "text/plain": [
       "   indicator_types.value  kill_chain_phases.kill_chain_phases.ordinality  \\\n",
       "0                      6                                             0.0   \n",
       "1                      6                                             0.0   \n",
       "2                      6                                             0.0   \n",
       "3                      6                                             0.0   \n",
       "4                      6                                             0.0   \n",
       "\n",
       "   ip_score  url_score  observable.object.properties.hashes.type.value  \\\n",
       "0   0.00000        0.0                                               0   \n",
       "1   1.00000        0.0                                               0   \n",
       "2   0.00000        0.0                                               0   \n",
       "3   0.00000        0.0                                               0   \n",
       "4   0.51408        0.0                                               0   \n",
       "\n",
       "   observable.object.properties.header.subject.value  \\\n",
       "0                                                  0   \n",
       "1                                                  0   \n",
       "2                                                  0   \n",
       "3                                                  0   \n",
       "4                                                  0   \n",
       "\n",
       "   observable.object.properties.size_in_bytes.value  tlp_marking_color  \\\n",
       "0                                               0.0                  0   \n",
       "1                                               0.0                  0   \n",
       "2                                               0.0                  0   \n",
       "3                                               0.0                  0   \n",
       "4                                               0.0                  0   \n",
       "\n",
       "   target  hash_score  file_type  \n",
       "0       5         0.0          0  \n",
       "1       5         0.0          0  \n",
       "2       5         0.0          0  \n",
       "3       5         0.0          0  \n",
       "4       5         0.0          0  "
      ]
     },
     "execution_count": 173,
     "metadata": {},
     "output_type": "execute_result"
    }
   ],
   "source": [
    "cat_columns = ['observable.object.properties.hashes.type.value', \n",
    "               'observable.object.properties.header.subject.value', \n",
    "               'file_type',\n",
    "               'indicator_types.value',\n",
    "               'tlp_marking_color',\n",
    "               'target'\n",
    "              ]\n",
    "\n",
    "df = df.replace('', 0.0)\n",
    "# Converting object datatype to category datatype\n",
    "for col in list(cat_columns):\n",
    "    df[col] = df[col].astype('category')\n",
    "\n",
    "# Assigning a code to each category for the model to learn it easily\n",
    "df[cat_columns] = df[cat_columns].apply(lambda x: x.cat.codes)\n",
    "df.head()"
   ]
  },
  {
   "cell_type": "code",
   "execution_count": 193,
   "metadata": {},
   "outputs": [],
   "source": [
    "df.to_csv('normalized_feature_set.csv', index=False, encoding='utf-8')"
   ]
  }
 ],
 "metadata": {
  "kernelspec": {
   "display_name": "Python [conda root]",
   "language": "python",
   "name": "conda-root-py"
  },
  "language_info": {
   "codemirror_mode": {
    "name": "ipython",
    "version": 2
   },
   "file_extension": ".py",
   "mimetype": "text/x-python",
   "name": "python",
   "nbconvert_exporter": "python",
   "pygments_lexer": "ipython2",
   "version": "2.7.12"
  }
 },
 "nbformat": 4,
 "nbformat_minor": 2
}
