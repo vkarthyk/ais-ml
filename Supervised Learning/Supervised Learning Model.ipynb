{
 "cells": [
  {
   "cell_type": "code",
   "execution_count": 1,
   "metadata": {},
   "outputs": [
    {
     "name": "stdout",
     "output_type": "stream",
     "text": [
      "<class 'pandas.core.frame.DataFrame'>\n",
      "RangeIndex: 35148 entries, 0 to 35147\n",
      "Data columns (total 11 columns):\n",
      "indicator_types.value                                35148 non-null object\n",
      "kill_chain_phases.kill_chain_phases.ordinality       35148 non-null float64\n",
      "ip_score                                             35148 non-null float64\n",
      "url_score                                            35148 non-null float64\n",
      "observable.object.properties.hashes.type.value       35148 non-null int64\n",
      "observable.object.properties.header.subject.value    35148 non-null int64\n",
      "observable.object.properties.size_in_bytes.value     35148 non-null float64\n",
      "tlp_marking_color                                    35148 non-null object\n",
      "target                                               35148 non-null object\n",
      "hash_score                                           35148 non-null float64\n",
      "file_type                                            35148 non-null int64\n",
      "dtypes: float64(5), int64(3), object(3)\n",
      "memory usage: 2.9+ MB\n"
     ]
    }
   ],
   "source": [
    "import pandas as pd\n",
    "\n",
    "df = pd.read_csv('normalized_feature_set.csv', encoding='ISO-8859-1')\n",
    "df.info()"
   ]
  },
  {
   "cell_type": "code",
   "execution_count": 35,
   "metadata": {},
   "outputs": [],
   "source": [
    "feature_list = [#'kill_chain_phases.kill_chain_phases.ordinality',\n",
    "                'ip_score',\n",
    "                'url_score',\n",
    "                'observable.object.properties.hashes.type.value',\n",
    "                'observable.object.properties.header.subject.value',\n",
    "                'observable.object.properties.size_in_bytes.value',\n",
    "                'hash_score',\n",
    "                'file_type'\n",
    "               ]\n",
    "X = df[feature_list]\n",
    "#Y = df['indicator_types.value']"
   ]
  },
  {
   "cell_type": "code",
   "execution_count": 24,
   "metadata": {},
   "outputs": [],
   "source": [
    "cat_columns = ['indicator_types.value']\n",
    "\n",
    "for col in list(cat_columns):\n",
    "    df[col] = df[col].astype('category')\n",
    "\n",
    "# Assigning a code to each category for the model to learn it easily\n",
    "df[cat_columns] = df[cat_columns].apply(lambda x: x.cat.codes)\n",
    "Y = df['indicator_types.value']"
   ]
  },
  {
   "cell_type": "code",
   "execution_count": 25,
   "metadata": {},
   "outputs": [
    {
     "data": {
      "text/html": [
       "<div>\n",
       "<table border=\"1\" class=\"dataframe\">\n",
       "  <thead>\n",
       "    <tr style=\"text-align: right;\">\n",
       "      <th></th>\n",
       "      <th>0</th>\n",
       "      <th>1</th>\n",
       "      <th>2</th>\n",
       "      <th>3</th>\n",
       "      <th>4</th>\n",
       "      <th>5</th>\n",
       "      <th>6</th>\n",
       "    </tr>\n",
       "  </thead>\n",
       "  <tbody>\n",
       "    <tr>\n",
       "      <th>0</th>\n",
       "      <td>0.75000</td>\n",
       "      <td>0.0</td>\n",
       "      <td>0.0</td>\n",
       "      <td>0.0</td>\n",
       "      <td>0.0</td>\n",
       "      <td>0.0</td>\n",
       "      <td>0.0</td>\n",
       "    </tr>\n",
       "    <tr>\n",
       "      <th>1</th>\n",
       "      <td>1.00000</td>\n",
       "      <td>0.0</td>\n",
       "      <td>0.0</td>\n",
       "      <td>0.0</td>\n",
       "      <td>0.0</td>\n",
       "      <td>0.0</td>\n",
       "      <td>0.0</td>\n",
       "    </tr>\n",
       "    <tr>\n",
       "      <th>2</th>\n",
       "      <td>0.75000</td>\n",
       "      <td>0.0</td>\n",
       "      <td>0.0</td>\n",
       "      <td>0.0</td>\n",
       "      <td>0.0</td>\n",
       "      <td>0.0</td>\n",
       "      <td>0.0</td>\n",
       "    </tr>\n",
       "    <tr>\n",
       "      <th>3</th>\n",
       "      <td>0.75000</td>\n",
       "      <td>0.0</td>\n",
       "      <td>0.0</td>\n",
       "      <td>0.0</td>\n",
       "      <td>0.0</td>\n",
       "      <td>0.0</td>\n",
       "      <td>0.0</td>\n",
       "    </tr>\n",
       "    <tr>\n",
       "      <th>4</th>\n",
       "      <td>0.87852</td>\n",
       "      <td>0.0</td>\n",
       "      <td>0.0</td>\n",
       "      <td>0.0</td>\n",
       "      <td>0.0</td>\n",
       "      <td>0.0</td>\n",
       "      <td>0.0</td>\n",
       "    </tr>\n",
       "  </tbody>\n",
       "</table>\n",
       "</div>"
      ],
      "text/plain": [
       "         0    1    2    3    4    5    6\n",
       "0  0.75000  0.0  0.0  0.0  0.0  0.0  0.0\n",
       "1  1.00000  0.0  0.0  0.0  0.0  0.0  0.0\n",
       "2  0.75000  0.0  0.0  0.0  0.0  0.0  0.0\n",
       "3  0.75000  0.0  0.0  0.0  0.0  0.0  0.0\n",
       "4  0.87852  0.0  0.0  0.0  0.0  0.0  0.0"
      ]
     },
     "execution_count": 25,
     "metadata": {},
     "output_type": "execute_result"
    }
   ],
   "source": [
    "from sklearn import preprocessing\n",
    "\n",
    "# Set charts to view inline\n",
    "%matplotlib inline\n",
    "\n",
    "# Create a minimum and maximum processor object\n",
    "min_max_scaler = preprocessing.MinMaxScaler()\n",
    "\n",
    "# Create an object to transform the data to fit minmax processor\n",
    "X_scaled = min_max_scaler.fit_transform(X)\n",
    "\n",
    "# Run the normalizer on the dataframe\n",
    "X_normalized = pd.DataFrame(X_scaled)\n",
    "\n",
    "X_normalized.head()"
   ]
  },
  {
   "cell_type": "code",
   "execution_count": 26,
   "metadata": {},
   "outputs": [],
   "source": [
    "from sklearn.cross_validation import train_test_split\n",
    "from sklearn import metrics\n",
    "\n",
    "# Split the data into training and testing data\n",
    "X_train, X_test, y_train, y_test = train_test_split(X_normalized, Y, test_size=0.5)"
   ]
  },
  {
   "cell_type": "code",
   "execution_count": 27,
   "metadata": {},
   "outputs": [
    {
     "name": "stdout",
     "output_type": "stream",
     "text": [
      "For Numerical Data\n",
      "\n",
      "accuracy of \"KNeighbors\" model is 0.930636167065\n",
      "accuracy of \"Random Forest\" model is 0.932741550017\n",
      "accuracy of \"Neural Networks\" model is 0.929156708774\n",
      "accuracy of \"SVM\" model is 0.928872197565\n",
      "\n",
      "\n"
     ]
    },
    {
     "data": {
      "image/png": "[encoded data removed]",
      "text/plain": [
       "<matplotlib.figure.Figure at 0x116c36490>"
      ]
     },
     "metadata": {},
     "output_type": "display_data"
    }
   ],
   "source": [
    "import numpy as np\n",
    "from sklearn import metrics\n",
    "import matplotlib.pyplot as plt\n",
    "from sklearn.neural_network import MLPClassifier\n",
    "from sklearn.neighbors import KNeighborsClassifier\n",
    "\n",
    "from sklearn.svm import SVC\n",
    "from sklearn.ensemble import RandomForestClassifier\n",
    "import seaborn\n",
    "\n",
    "names = [\"KNeighbors\", \"Random Forest\", \"Neural Networks\", \"SVM\"]\n",
    "y_pos = np.arange(len(names))\n",
    "\n",
    "classifiers = [\n",
    "    KNeighborsClassifier(10),\n",
    "    RandomForestClassifier(n_estimators=50),\n",
    "    MLPClassifier(solver='lbfgs', alpha=1e-5, hidden_layer_sizes=(40, 20), random_state=1),\n",
    "    SVC(C=100.),\n",
    "    ]   \n",
    "\n",
    "test = pd.DataFrame(names)\n",
    "accuracy1 = []\n",
    "accuracy2 = []\n",
    "accuracy3 = []\n",
    "\n",
    "print \"For Numerical Data\\n\"\n",
    "for name, clf in zip(names, classifiers):\n",
    "    clf.fit(X_train, y_train)\n",
    "    accu = metrics.accuracy_score(clf.predict(X_test), y_test)\n",
    "    print 'accuracy of \"{}\" model is {}' .format(name, accu)\n",
    "    accuracy1.append(accu)\n",
    "    #print name\n",
    "print \"\\n\"\n",
    "\n",
    "plt.ylim([0, 1])\n",
    "plt.xlabel('Classifiers')\n",
    "plt.ylabel('Accuracy')\n",
    "plt.title('For Numerical Data')\n",
    "plt.bar(y_pos, accuracy1, align='center', alpha=0.5)\n",
    "plt.xticks(y_pos, names, rotation='vertical')\n",
    "plt.show()"
   ]
  },
  {
   "cell_type": "code",
   "execution_count": 29,
   "metadata": {},
   "outputs": [],
   "source": [
    "from sklearn.naive_bayes import MultinomialNB\n",
    "from sklearn import metrics\n",
    "from sklearn.grid_search import GridSearchCV\n",
    "\n",
    "clf = RandomForestClassifier(n_estimators=50).fit(X_train, y_train)\n",
    "all_predictions = clf.predict(X_test)"
   ]
  },
  {
   "cell_type": "code",
   "execution_count": 30,
   "metadata": {},
   "outputs": [
    {
     "name": "stdout",
     "output_type": "stream",
     "text": [
      "             precision    recall  f1-score   support\n",
      "\n",
      "          0       0.00      0.00      0.00        96\n",
      "          1       0.48      0.10      0.16       112\n",
      "          3       0.82      0.46      0.59      1376\n",
      "          4       0.85      0.78      0.81       217\n",
      "          5       0.00      0.00      0.00         4\n",
      "          6       0.94      1.00      0.97     15400\n",
      "          7       0.94      0.58      0.71       154\n",
      "          8       0.76      0.67      0.71       110\n",
      "          9       0.52      0.13      0.21       105\n",
      "\n",
      "avg / total       0.92      0.93      0.92     17574\n",
      "\n"
     ]
    }
   ],
   "source": [
    "from sklearn.metrics import classification_report\n",
    "print classification_report(y_test, all_predictions)"
   ]
  },
  {
   "cell_type": "code",
   "execution_count": 36,
   "metadata": {},
   "outputs": [
    {
     "data": {
      "text/plain": [
       "ip_score                                             1.0\n",
       "url_score                                            0.0\n",
       "observable.object.properties.hashes.type.value       0.0\n",
       "observable.object.properties.header.subject.value    0.0\n",
       "observable.object.properties.size_in_bytes.value     0.0\n",
       "hash_score                                           0.0\n",
       "file_type                                            0.0\n",
       "Name: 1, dtype: float64"
      ]
     },
     "execution_count": 36,
     "metadata": {},
     "output_type": "execute_result"
    }
   ],
   "source": [
    "X.iloc[1]"
   ]
  },
  {
   "cell_type": "code",
   "execution_count": null,
   "metadata": {
    "collapsed": true
   },
   "outputs": [],
   "source": []
  }
 ],
 "metadata": {
  "anaconda-cloud": {},
  "kernelspec": {
   "display_name": "Python [conda root]",
   "language": "python",
   "name": "conda-root-py"
  },
  "language_info": {
   "codemirror_mode": {
    "name": "ipython",
    "version": 2
   },
   "file_extension": ".py",
   "mimetype": "text/x-python",
   "name": "python",
   "nbconvert_exporter": "python",
   "pygments_lexer": "ipython2",
   "version": "2.7.12"
  }
 },
 "nbformat": 4,
 "nbformat_minor": 2
}
